{
 "cells": [
  {
   "cell_type": "code",
   "execution_count": 11,
   "metadata": {},
   "outputs": [],
   "source": [
    "import pandas as pd\n",
    "from datetime import date, timedelta, datetime"
   ]
  },
  {
   "cell_type": "code",
   "execution_count": null,
   "metadata": {},
   "outputs": [],
   "source": [
    "def readData():\n",
    "    source = \"output.xlsx\"\n",
    "    global NL, BE, UK, NLgeo, BEgeo, UKgeo\n",
    "    NL = pd.read_excel(io=source, sheet_name=\"NL\", index_col=0)\n",
    "    BE = pd.read_excel(io=source, sheet_name=\"BE\", index_col=0)\n",
    "    UK = pd.read_excel(io=source, sheet_name=\"UK\", index_col=0)\n",
    "    NLgeo = pd.read_excel(io=source, sheet_name=\"NLgeo\", index_col=0)\n",
    "    BEgeo = pd.read_excel(io=source, sheet_name=\"BEgeo\", index_col=0)\n",
    "    UKgeo = pd.read_excel(io=source, sheet_name=\"UKgeo\", index_col=0)\n",
    "    \n",
    "readData()"
   ]
  },
  {
   "cell_type": "code",
   "execution_count": 20,
   "metadata": {},
   "outputs": [],
   "source": [
    "def computeData(country):\n",
    "        # Make all variables that are used global\n",
    "    global Active_Cases_Per_100k\n",
    "    global Active_Cases_Per_100k_before\n",
    "    global Active_Cases_Color\n",
    "    global Active_Cases_Difference\n",
    "    \n",
    "    global Tests_Per_100k\n",
    "    global Tests_Per_100k_before\n",
    "    global Tests_Color\n",
    "    global Tests_Difference\n",
    "    \n",
    "    global Positive_Tests\n",
    "    global Positive_Tests_before\n",
    "    global Positive_Tests_Color\n",
    "    global Positive_Tests_Difference\n",
    "    \n",
    "    global Hospital_Admissions\n",
    "    global Hospital_Admissions_before\n",
    "    global Hospital_Admissions_Color\n",
    "    global Hospital_Admissions_Difference\n",
    "    \n",
    "        # Dates\n",
    "    country['DATE'] = country['DATE'].astype(str)\n",
    "    date = datetime.strptime(country['DATE'].max(), \"%Y-%m-%d\").strftime(\"%Y-%m-%d\")  #Last recorded date in the dataset\n",
    "    date_yesterday = str(datetime.strptime(country['DATE'].max(), \"%Y-%m-%d\") + timedelta(days=-1)).split(' ')[0] #Day before the last recorded date in dataset\n",
    "    date_7_days_before = str(datetime.strptime(country['DATE'].max(), \"%Y-%m-%d\") + timedelta(days=-7)).split(' ')[0] #7 days before the last recorded date in dataset\n",
    "    date_14_days_before = str(datetime.strptime(country['DATE'].max(), \"%Y-%m-%d\") + timedelta(days=-14)).split(' ')[0] #14 days before the last recorded date in dataset\n",
    "    date_28_days_before = str(datetime.strptime(country['DATE'].max(), \"%Y-%m-%d\") + timedelta(days=-28)).split(' ')[0] #28 days before the last recorded date in dataset\n",
    "    \n",
    "        # Active Cases\n",
    "    Active_Cases = country[(country['DATE'] > date_14_days_before) & (country['DATE'] <= date)].Tested_positive.sum() #Number of positive tests in the last 14 days\n",
    "    Inhabitants = country[(country['DATE'] > date_14_days_before) & (country['DATE'] <= date)].Inhabitants.sum()/14 #Mean number of Inhabitants in the last 14 days\n",
    "    Active_Cases_Per_100k = int(round(100000*Active_Cases/Inhabitants,0)) #Number of active cases per 100.000 inhabitants\n",
    "        # Active Cases 14 days before\n",
    "    Active_Cases_before = country[(country['DATE'] > date_28_days_before) & (country['DATE'] <= date_14_days_before)].Tested_positive.sum()\n",
    "    Inhabitants_before = country[(country['DATE'] > date_28_days_before) & (country['DATE'] <= date_14_days_before)].Inhabitants.sum()/14\n",
    "    Active_Cases_Per_100k_before = int(round(100000*Active_Cases_before/Inhabitants_before,0))\n",
    "        # Difference    \n",
    "    Active_Cases_Difference = Active_Cases_Per_100k - Active_Cases_Per_100k_before\n",
    "        #if-statement Cases\n",
    "    if Active_Cases_Difference > 0:\n",
    "        Active_Cases_Color = '#B30000' #RED\n",
    "    elif Active_Cases_Difference < 0:\n",
    "        Active_Cases_Color = '#00B300' #Green\n",
    "    elif Active_Cases_Difference == 0:\n",
    "        Active_Cases_Color = '#7f7f7f' #Grey\n",
    "    \n",
    "        # Tests\n",
    "    Tests = country[(country['DATE'] > date_7_days_before) & (country['DATE'] <= date)].Total_tested.sum()/7 #Mean number of tests recorded in the last week\n",
    "    Tests_Per_100k = int(round(100000*Tests/Inhabitants,0)) #Number of tests per 100.000 inhabitants\n",
    "        # Tests week before\n",
    "    Tests_before = country[(country['DATE'] > date_14_days_before) & (country['DATE'] <= date_7_days_before)].Total_tested.sum()/7 #Mean number of tests recorded in the last week\n",
    "    Tests_Per_100k_before = int(round(100000*Tests_before/Inhabitants,0)) #Number of tests per 100.000 inhabitants\n",
    "        # Difference\n",
    "    Tests_Difference = Tests_Per_100k - Tests_Per_100k_before\n",
    "        #if-statement Cases\n",
    "    if Tests_Difference > 0:\n",
    "        Tests_Color = '#B30000' #RED\n",
    "    elif Tests_Difference < 0:\n",
    "        Tests_Color = '#00B300' #Green\n",
    "    elif Tests_Difference == 0:\n",
    "        Tests_Color = '#7f7f7f' #Grey\n",
    "    \n",
    "        # Positive tests\n",
    "    Positive_Tests = int(country[(country['DATE'] > date_7_days_before) & (country['DATE'] <= date)].Tested_positive.sum()/7) # Mean number of positive tests on this week\n",
    "    Positive_Tests_before = int(country[(country['DATE'] > date_14_days_before) & (country['DATE'] <= date_7_days_before)].Tested_positive.sum()/7) # Mean number of postitive tests of the week before\n",
    "    # Difference\n",
    "    Positive_Tests_Difference = Positive_Tests - Positive_Tests_before\n",
    "        #if-statement Cases\n",
    "    if Positive_Tests_Difference > 0:\n",
    "        Positive_Tests_Color = '#B30000' #RED\n",
    "    elif Positive_Tests_Difference < 0:\n",
    "        Positive_Tests_Color = '#00B300' #Green\n",
    "    elif Positive_Tests_Difference == 0:\n",
    "        Positive_Tests_Color = '#7f7f7f' #Grey\n",
    "        \n",
    "        # Hospital Admissions\n",
    "    Hospital_Admissions = int(country[(country['DATE'] > date_14_days_before) & (country['DATE'] <= date)].Hospital_admission.sum()) #Number of hospital admissions in the last two weeks\n",
    "    Hospital_Admissions_before = int(country[(country['DATE'] > date_28_days_before) & (country['DATE'] <= date_14_days_before)].Hospital_admission.sum()) #Number of hospital admissions in the two weeks before\n",
    "    # Difference\n",
    "    Hospital_Admissions_Difference = Hospital_Admissions - Hospital_Admissions_before\n",
    "        #if-statement Cases\n",
    "    if Hospital_Admissions_Difference > 0:\n",
    "        Hospital_Admissions_Color = '#B30000' #RED\n",
    "    elif Hospital_Admissions_Difference < 0:\n",
    "        Hospital_Admissions_Color = '#00B300' #Green\n",
    "    elif Hospital_Admissions_Difference == 0:\n",
    "        Hospital_Admissions_Color = '#7f7f7f' #Grey\n",
    "        \n",
    "computeData(UK)"
   ]
  },
  {
   "cell_type": "code",
   "execution_count": 21,
   "metadata": {},
   "outputs": [
    {
     "name": "stdout",
     "output_type": "stream",
     "text": [
      "The number of active cases per 100.000 inhabitants is:  83\n",
      "That is a difference of 40 since last week\n",
      "\n",
      "The number of tests per 100.000 inhabitants is:  2510\n",
      "That is a difference of -83 since last week\n",
      "\n",
      "The number of positive tests today is:  4095\n",
      "That is a difference of 1506 since last week\n",
      "\n",
      "The number of hospital admissions in the last two weeks:  1106\n",
      "That is a difference of -31 since 2 weeks ago\n",
      "\n"
     ]
    }
   ],
   "source": [
    "print(\"The number of active cases per 100.000 inhabitants is: \", Active_Cases_Per_100k)\n",
    "print(\"That is a difference of\", (Active_Cases_Per_100k-Active_Cases_Per_100k_before), 'since last week')\n",
    "print(\"\")\n",
    "print(\"The number of tests per 100.000 inhabitants is: \", Tests_Per_100k)\n",
    "print(\"That is a difference of\", (Tests_Per_100k-Tests_Per_100k_before), 'since last week')\n",
    "print(\"\")\n",
    "print(\"The number of positive tests today is: \", Positive_Tests)\n",
    "print(\"That is a difference of\", (Positive_Tests-Positive_Tests_before), 'since last week')\n",
    "print(\"\")\n",
    "print(\"The number of hospital admissions in the last two weeks: \", Hospital_Admissions)\n",
    "print(\"That is a difference of\", (Hospital_Admissions-Hospital_Admissions_before), 'since 2 weeks ago')\n",
    "print(\"\")"
   ]
  },
  {
   "cell_type": "code",
   "execution_count": 16,
   "metadata": {},
   "outputs": [
    {
     "ename": "NameError",
     "evalue": "name 'Active_Cases_Color' is not defined",
     "output_type": "error",
     "traceback": [
      "\u001b[1;31m---------------------------------------------------------------------------\u001b[0m",
      "\u001b[1;31mNameError\u001b[0m                                 Traceback (most recent call last)",
      "\u001b[1;32m<ipython-input-16-13c6ba05ea1a>\u001b[0m in \u001b[0;36m<module>\u001b[1;34m\u001b[0m\n\u001b[1;32m----> 1\u001b[1;33m \u001b[0mActive_Cases_Color\u001b[0m\u001b[1;33m\u001b[0m\u001b[1;33m\u001b[0m\u001b[0m\n\u001b[0m",
      "\u001b[1;31mNameError\u001b[0m: name 'Active_Cases_Color' is not defined"
     ]
    }
   ],
   "source": [
    "Active_Cases_Color"
   ]
  },
  {
   "cell_type": "code",
   "execution_count": 19,
   "metadata": {},
   "outputs": [
    {
     "ename": "SyntaxError",
     "evalue": "invalid syntax (<ipython-input-19-b7e2bfba0426>, line 3)",
     "output_type": "error",
     "traceback": [
      "\u001b[1;36m  File \u001b[1;32m\"<ipython-input-19-b7e2bfba0426>\"\u001b[1;36m, line \u001b[1;32m3\u001b[0m\n\u001b[1;33m    x = +, bier-wijn\u001b[0m\n\u001b[1;37m         ^\u001b[0m\n\u001b[1;31mSyntaxError\u001b[0m\u001b[1;31m:\u001b[0m invalid syntax\n"
     ]
    }
   ],
   "source": []
  },
  {
   "cell_type": "code",
   "execution_count": 18,
   "metadata": {},
   "outputs": [
    {
     "data": {
      "text/plain": [
       "('+', 1)"
      ]
     },
     "execution_count": 18,
     "metadata": {},
     "output_type": "execute_result"
    }
   ],
   "source": [
    "x\n"
   ]
  },
  {
   "cell_type": "code",
   "execution_count": null,
   "metadata": {},
   "outputs": [],
   "source": []
  }
 ],
 "metadata": {
  "kernelspec": {
   "display_name": "Python 3",
   "language": "python",
   "name": "python3"
  },
  "language_info": {
   "codemirror_mode": {
    "name": "ipython",
    "version": 3
   },
   "file_extension": ".py",
   "mimetype": "text/x-python",
   "name": "python",
   "nbconvert_exporter": "python",
   "pygments_lexer": "ipython3",
   "version": "3.8.3"
  }
 },
 "nbformat": 4,
 "nbformat_minor": 4
}
